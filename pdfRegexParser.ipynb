{
 "cells": [
  {
   "attachments": {},
   "cell_type": "markdown",
   "metadata": {},
   "source": [
    "# MNBlackNewspaperIndex Regex Parse"
   ]
  },
  {
   "cell_type": "code",
   "execution_count": 4,
   "metadata": {},
   "outputs": [],
   "source": [
    "import re #regex\n",
    "import PyPDF2"
   ]
  },
  {
   "cell_type": "code",
   "execution_count": 3,
   "metadata": {},
   "outputs": [],
   "source": [
    "pattern = r'^(.*?),\\s*(.*?),\\s*(.*?)$'\n"
   ]
  },
  {
   "cell_type": "code",
   "execution_count": null,
   "metadata": {},
   "outputs": [],
   "source": [
    "regex = re.compile(pattern)\n"
   ]
  },
  {
   "cell_type": "code",
   "execution_count": null,
   "metadata": {},
   "outputs": [],
   "source": [
    "with open('your_file.txt', 'r') as file:\n",
    "    for line in file:\n",
    "        match = regex.match(line)\n",
    "        if match:\n",
    "            item_name = match.group(1)\n",
    "            category = match.group(2)\n",
    "            price = match.group(3)\n",
    "            # Process the extracted values as needed, e.g., store in a spreadsheet.\n"
   ]
  },
  {
   "cell_type": "code",
   "execution_count": null,
   "metadata": {},
   "outputs": [],
   "source": [
    "# import the acrobat ocr'd pdf file\n",
    "with open('your_file.pdf', 'rb') as file:\n",
    "    reader = PyPDF2.PdfReader(file)\n"
   ]
  },
  {
   "cell_type": "code",
   "execution_count": null,
   "metadata": {},
   "outputs": [],
   "source": [
    "# extract the text\n",
    "ocr_text = []\n",
    "for page in reader.pages:\n",
    "    text = page.extract_text()\n",
    "    ocr_text.append(text)\n"
   ]
  }
 ],
 "metadata": {
  "kernelspec": {
   "display_name": "imageprocessing",
   "language": "python",
   "name": "python3"
  },
  "language_info": {
   "codemirror_mode": {
    "name": "ipython",
    "version": 3
   },
   "file_extension": ".py",
   "mimetype": "text/x-python",
   "name": "python",
   "nbconvert_exporter": "python",
   "pygments_lexer": "ipython3",
   "version": "3.11.3"
  },
  "orig_nbformat": 4
 },
 "nbformat": 4,
 "nbformat_minor": 2
}
